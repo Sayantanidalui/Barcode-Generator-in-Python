{
 "cells": [
  {
   "cell_type": "markdown",
   "id": "667efbbe-0e13-471d-80b1-994edcfaef90",
   "metadata": {},
   "source": [
    "BARCODE-GENERATION IN PYTHON"
   ]
  },
  {
   "cell_type": "code",
   "execution_count": 2,
   "id": "04c70467-90ae-4ce6-ae4c-fa254029c3aa",
   "metadata": {
    "scrolled": true
   },
   "outputs": [
    {
     "name": "stdout",
     "output_type": "stream",
     "text": [
      "Collecting python-barcode\n",
      "  Downloading python_barcode-0.15.1-py3-none-any.whl.metadata (2.3 kB)\n",
      "Downloading python_barcode-0.15.1-py3-none-any.whl (212 kB)\n",
      "Installing collected packages: python-barcode\n",
      "Successfully installed python-barcode-0.15.1\n"
     ]
    }
   ],
   "source": [
    "!pip install python-barcode"
   ]
  },
  {
   "cell_type": "code",
   "execution_count": 1,
   "id": "d16ece85-fd06-4985-a13e-a5e569e40ce5",
   "metadata": {},
   "outputs": [
    {
     "name": "stdin",
     "output_type": "stream",
     "text": [
      "Enter the data to encode in the barcode:  8912365479\n"
     ]
    },
    {
     "data": {
      "image/png": "[encoded data removed]",
      "text/plain": [
       "<IPython.core.display.Image object>"
      ]
     },
     "metadata": {},
     "output_type": "display_data"
    }
   ],
   "source": [
    "import barcode\n",
    "from barcode.writer import ImageWriter\n",
    "from IPython.display import Image, display\n",
    "\n",
    "user_data = input(\"Enter the data to encode in the barcode: \")\n",
    "\n",
    "code = barcode.get('code128', user_data, writer=ImageWriter())\n",
    "\n",
    "file_name = code.save(\"pcoding_barcode\")\n",
    "\n",
    "display(Image(filename=file_name))"
   ]
  },
  {
   "cell_type": "code",
   "execution_count": null,
   "id": "098e9144-15af-4425-bd23-776be439e506",
   "metadata": {},
   "outputs": [],
   "source": []
  }
 ],
 "metadata": {
  "kernelspec": {
   "display_name": "Python [conda env:base] *",
   "language": "python",
   "name": "conda-base-py"
  },
  "language_info": {
   "codemirror_mode": {
    "name": "ipython",
    "version": 3
   },
   "file_extension": ".py",
   "mimetype": "text/x-python",
   "name": "python",
   "nbconvert_exporter": "python",
   "pygments_lexer": "ipython3",
   "version": "3.12.7"
  }
 },
 "nbformat": 4,
 "nbformat_minor": 5
}
